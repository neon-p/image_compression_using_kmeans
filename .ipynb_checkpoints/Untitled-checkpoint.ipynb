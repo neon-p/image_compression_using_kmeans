{
 "cells": [
  {
   "cell_type": "code",
   "execution_count": 82,
   "metadata": {},
   "outputs": [],
   "source": [
    "from PIL import Image\n",
    "import numpy as np\n",
    "import matplotlib.pyplot as plt\n",
    "import matplotlib.image as image\n",
    "import plot_utils\n",
    "from sklearn.cluster import MiniBatchKMeans"
   ]
  },
  {
   "cell_type": "code",
   "execution_count": 175,
   "metadata": {},
   "outputs": [],
   "source": [
    "img=Image.open(\"1.jpg\")\n",
    "img.show()"
   ]
  },
  {
   "cell_type": "code",
   "execution_count": 193,
   "metadata": {},
   "outputs": [
    {
     "data": {
      "text/plain": [
       "(647145, 3)"
      ]
     },
     "execution_count": 193,
     "metadata": {},
     "output_type": "execute_result"
    }
   ],
   "source": [
    "img_arr=np.asarray(img)\n",
    "# img_arr=(img_arr/255)\n",
    "img_arr=(img_arr/255.0).reshape(-1,3) #converting 3D to 2D for finding colerspace\n",
    "img_arr.shape"
   ]
  },
  {
   "cell_type": "code",
   "execution_count": 194,
   "metadata": {},
   "outputs": [
    {
     "data": {
      "text/plain": [
       "array([[0.4627451 , 0.71372549, 0.99607843],\n",
       "       [0.4627451 , 0.71372549, 0.99607843],\n",
       "       [0.4627451 , 0.71372549, 0.99607843],\n",
       "       ...,\n",
       "       [0.08235294, 0.12941176, 0.18431373],\n",
       "       [0.25490196, 0.30588235, 0.37254902],\n",
       "       [0.25490196, 0.31372549, 0.38823529]])"
      ]
     },
     "execution_count": 194,
     "metadata": {},
     "output_type": "execute_result"
    }
   ],
   "source": [
    "img_arr"
   ]
  },
  {
   "cell_type": "code",
   "execution_count": 116,
   "metadata": {},
   "outputs": [],
   "source": [
    "# color = plot_utils(img_arr,title=\"A\")\n",
    "# color.color"
   ]
  },
  {
   "cell_type": "code",
   "execution_count": 195,
   "metadata": {},
   "outputs": [],
   "source": [
    "kmeans= MiniBatchKMeans(n_clusters=160,batch_size=10).fit(img_arr)"
   ]
  },
  {
   "cell_type": "code",
   "execution_count": 196,
   "metadata": {},
   "outputs": [],
   "source": [
    "k_colors = kmeans.cluster_centers_[kmeans.predict(img_arr)]"
   ]
  },
  {
   "cell_type": "code",
   "execution_count": 197,
   "metadata": {},
   "outputs": [],
   "source": [
    "k_img=np.multiply(k_colors,255)"
   ]
  },
  {
   "cell_type": "code",
   "execution_count": 198,
   "metadata": {},
   "outputs": [],
   "source": [
    "# Reshaping the image according to the clusters\n",
    "k_img = np.reshape(k_img, (img.height,img.width,3))"
   ]
  },
  {
   "cell_type": "code",
   "execution_count": 199,
   "metadata": {},
   "outputs": [
    {
     "data": {
      "text/plain": [
       "array([[[113, 181, 253],\n",
       "        [113, 181, 253],\n",
       "        [113, 181, 253],\n",
       "        ...,\n",
       "        [ 50, 143, 237],\n",
       "        [ 50, 143, 237],\n",
       "        [ 50, 143, 237]],\n",
       "\n",
       "       [[113, 181, 253],\n",
       "        [113, 181, 253],\n",
       "        [113, 181, 253],\n",
       "        ...,\n",
       "        [ 50, 143, 237],\n",
       "        [ 50, 143, 237],\n",
       "        [ 50, 143, 237]],\n",
       "\n",
       "       [[113, 181, 253],\n",
       "        [113, 181, 253],\n",
       "        [113, 181, 253],\n",
       "        ...,\n",
       "        [ 50, 143, 237],\n",
       "        [ 50, 143, 237],\n",
       "        [ 50, 143, 237]],\n",
       "\n",
       "       ...,\n",
       "\n",
       "       [[ 75,  51,  32],\n",
       "        [ 99,  64,  37],\n",
       "        [ 99,  64,  37],\n",
       "        ...,\n",
       "        [192, 205, 217],\n",
       "        [ 98, 116, 138],\n",
       "        [211, 228, 247]],\n",
       "\n",
       "       [[ 99,  64,  37],\n",
       "        [ 99,  64,  37],\n",
       "        [ 99,  64,  37],\n",
       "        ...,\n",
       "        [139, 143, 150],\n",
       "        [161, 169, 172],\n",
       "        [205, 221, 238]],\n",
       "\n",
       "       [[ 99,  64,  37],\n",
       "        [ 99,  64,  37],\n",
       "        [ 99,  64,  37],\n",
       "        ...,\n",
       "        [ 38,  31,  26],\n",
       "        [ 86,  86,  88],\n",
       "        [ 86,  86,  88]]], dtype=uint8)"
      ]
     },
     "execution_count": 199,
     "metadata": {},
     "output_type": "execute_result"
    }
   ],
   "source": [
    "k_img=k_img.astype('uint8')\n",
    "# k_img\n",
    "# # print(np.asarray(img))"
   ]
  },
  {
   "cell_type": "code",
   "execution_count": 206,
   "metadata": {},
   "outputs": [],
   "source": [
    "# np.asarray(img)"
   ]
  },
  {
   "cell_type": "code",
   "execution_count": 201,
   "metadata": {},
   "outputs": [
    {
     "data": {
      "text/plain": [
       "(657, 985, 3)"
      ]
     },
     "execution_count": 201,
     "metadata": {},
     "output_type": "execute_result"
    }
   ],
   "source": [
    "k_img.shape"
   ]
  },
  {
   "cell_type": "code",
   "execution_count": 202,
   "metadata": {},
   "outputs": [],
   "source": [
    "c_img=Image.fromarray(k_img,'RGB')"
   ]
  },
  {
   "cell_type": "code",
   "execution_count": 205,
   "metadata": {},
   "outputs": [],
   "source": [
    "c_img.save('c.jpg')"
   ]
  },
  {
   "cell_type": "code",
   "execution_count": 204,
   "metadata": {},
   "outputs": [],
   "source": [
    "c_img.show()"
   ]
  },
  {
   "cell_type": "code",
   "execution_count": null,
   "metadata": {},
   "outputs": [],
   "source": []
  }
 ],
 "metadata": {
  "kernelspec": {
   "display_name": "Python 3",
   "language": "python",
   "name": "python3"
  },
  "language_info": {
   "codemirror_mode": {
    "name": "ipython",
    "version": 3
   },
   "file_extension": ".py",
   "mimetype": "text/x-python",
   "name": "python",
   "nbconvert_exporter": "python",
   "pygments_lexer": "ipython3",
   "version": "3.8.2"
  }
 },
 "nbformat": 4,
 "nbformat_minor": 4
}
