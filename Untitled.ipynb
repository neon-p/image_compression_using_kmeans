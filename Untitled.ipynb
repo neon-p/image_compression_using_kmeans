{
 "cells": [
  {
   "cell_type": "code",
   "execution_count": 1,
   "metadata": {},
   "outputs": [
    {
     "name": "stdout",
     "output_type": "stream",
     "text": [
      "Enter 5 point\n"
     ]
    },
    {
     "name": "stdin",
     "output_type": "stream",
     "text": [
      " 2\n",
      " 5\n",
      " 10\n",
      " 15\n",
      " 20\n"
     ]
    },
    {
     "name": "stdout",
     "output_type": "stream",
     "text": [
      "Enter 5 point\n"
     ]
    },
    {
     "name": "stdin",
     "output_type": "stream",
     "text": [
      " 2\n",
      " 5\n",
      " 10\n",
      " 20\n",
      " 25\n"
     ]
    }
   ],
   "source": [
    "from PIL import Image\n",
    "import numpy as np\n",
    "from sklearn.cluster import MiniBatchKMeans\n",
    "import glob\n",
    "\n",
    "def compression(cluster_num,data):\n",
    "    kmeans= MiniBatchKMeans(n_clusters=cluster_num,batch_size=10).fit(data)\n",
    "    k_colors = kmeans.cluster_centers_[kmeans.predict(data)]\n",
    "    k_img=np.multiply(k_colors,255)\n",
    "    # Reshaping the image according to the clusters\n",
    "    k_img = np.reshape(k_img, (img.height,img.width,3))\n",
    "    k_img=k_img.astype('uint8')\n",
    "    return k_img\n",
    "\n",
    "images = glob.glob(\"*.jpg\")\n",
    "for image in images:\n",
    "    img = Image.open(image)\n",
    "    img_arr=np.asarray(img)\n",
    "    img_arr=(img_arr/255.0).reshape(-1,3) #converting 3D to 2D for finding colerspace\n",
    "\n",
    "    print(\"Enter 5 point\")\n",
    "    for j in range(5):\n",
    "        n_c=eval(input())\n",
    "        k_img=compression(n_c,img_arr)\n",
    "        c_img=Image.fromarray(k_img,'RGB')\n",
    "        image\n",
    "        c_img.save('compressed_image/'+image.replace(\".jpg\",\" \")+'_number_of_cluster_'+str(n_c)+'_.jpg')"
   ]
  },
  {
   "cell_type": "code",
   "execution_count": null,
   "metadata": {},
   "outputs": [],
   "source": []
  }
 ],
 "metadata": {
  "kernelspec": {
   "display_name": "Python 3",
   "language": "python",
   "name": "python3"
  },
  "language_info": {
   "codemirror_mode": {
    "name": "ipython",
    "version": 3
   },
   "file_extension": ".py",
   "mimetype": "text/x-python",
   "name": "python",
   "nbconvert_exporter": "python",
   "pygments_lexer": "ipython3",
   "version": "3.8.2"
  }
 },
 "nbformat": 4,
 "nbformat_minor": 4
}
